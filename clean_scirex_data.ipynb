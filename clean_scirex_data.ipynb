{
 "cells": [
  {
   "cell_type": "code",
   "execution_count": 29,
   "metadata": {},
   "outputs": [],
   "source": [
    "from pathlib import Path\n",
    "import functools\n",
    "import pickle\n",
    "import random\n",
    "import json\n",
    "import os\n",
    "\n",
    "from spacy.tokens import DocBin\n",
    "import spacy"
   ]
  },
  {
   "cell_type": "code",
   "execution_count": 3,
   "metadata": {},
   "outputs": [],
   "source": [
    "training_path = Path('training/corpus')\n",
    "source_path = training_path / 'source'\n",
    "fixed_path = training_path / 'fixed'\n",
    "converted_path = training_path / 'converted'\n",
    "small_path = training_path / 'small'"
   ]
  },
  {
   "cell_type": "code",
   "execution_count": 11,
   "metadata": {},
   "outputs": [],
   "source": [
    "\n",
    "for path in source_path.glob('*.txt'):\n",
    "    txt = path.read_text(encoding='utf-8')\n",
    "    txt = '\\n'.join([t.strip() for t in txt.split('\\n')]).strip()\n",
    "    fpath = fixed_path / path.name\n",
    "    fpath.write_text(txt, encoding='utf-8')\n",
    "    os.system(f'python -m spacy convert {fpath} {converted_path} --converter ner')"
   ]
  },
  {
   "cell_type": "code",
   "execution_count": 12,
   "metadata": {},
   "outputs": [],
   "source": [
    "nlp = spacy.load('en_core_web_lg')"
   ]
  },
  {
   "cell_type": "code",
   "execution_count": 13,
   "metadata": {},
   "outputs": [
    {
     "name": "stdout",
     "output_type": "stream",
     "text": [
      "training\\corpus\\converted\\Final_SCIREX_dev.spacy  :  17871\n",
      "training\\corpus\\converted\\Final_SCIREX_test.spacy  :  19429\n",
      "training\\corpus\\converted\\Final_SCIREX_train.spacy  :  83132\n"
     ]
    }
   ],
   "source": [
    "for path in converted_path.glob('*.spacy'):\n",
    "    doc_bin = DocBin().from_disk(path)\n",
    "    docs = list(doc_bin.get_docs(nlp.vocab))\n",
    "    print(path, ' : ', len(docs))"
   ]
  },
  {
   "cell_type": "code",
   "execution_count": 14,
   "metadata": {},
   "outputs": [],
   "source": [
    "to_keep = ['Material', 'Metric', 'Task']\n",
    "\n",
    "labels = []\n",
    "for path in converted_path.glob('*.spacy'):\n",
    " \n",
    "    input_bin = DocBin().from_disk(path)\n",
    "    output_bin = DocBin(attrs=[\"ENT_IOB\", \"ENT_TYPE\"])\n",
    "\n",
    "    for doc in input_bin.get_docs(nlp.vocab):\n",
    "        ents = [ent for ent in doc.ents if ent.label_ in to_keep]\n",
    "        doc.ents = tuple(ents)\n",
    "        output_bin.add(doc)\n",
    "\n",
    "    output_path = training_path / f\"tdm_{path.name.split('_')[-1]}\"\n",
    "    output_bin.to_disk(output_path)"
   ]
  },
  {
   "cell_type": "code",
   "execution_count": 15,
   "metadata": {},
   "outputs": [
    {
     "name": "stdout",
     "output_type": "stream",
     "text": [
      "training\\corpus\\tdm_dev.spacy  :  {'Material', 'Task', 'Metric'}\n",
      "training\\corpus\\tdm_test.spacy  :  {'Material', 'Task', 'Metric'}\n",
      "training\\corpus\\tdm_train.spacy  :  {'Material', 'Task', 'Metric'}\n"
     ]
    }
   ],
   "source": [
    "for path in training_path.glob('*.spacy'):\n",
    "    input_bin = DocBin().from_disk(path)\n",
    "    for doc in input_bin.get_docs(nlp.vocab):\n",
    "        labels += [ent.label_ for ent in doc.ents]\n",
    "    print(path, ' : ', set(labels))    "
   ]
  },
  {
   "cell_type": "code",
   "execution_count": 8,
   "metadata": {},
   "outputs": [],
   "source": [
    "random.seed(42)\n",
    "\n",
    "DEV_SIZE = TEST_SIZE = 500 \n",
    "TRAIN_SIZE = 1500\n",
    "\n",
    "for path, size in zip(fixed_path.glob('*.txt'), [DEV_SIZE, TEST_SIZE, TRAIN_SIZE]):\n",
    "    sentences = path.read_text(encoding='utf-8').split('\\n\\n')\n",
    "    random.shuffle(sentences)\n",
    "    (small_path / path.name).write_text('\\n\\n'.join(sentences[:size]), encoding='utf-8')"
   ]
  },
  {
   "cell_type": "code",
   "execution_count": 30,
   "metadata": {},
   "outputs": [
    {
     "data": {
      "text/plain": [
       "585697"
      ]
     },
     "execution_count": 30,
     "metadata": {},
     "output_type": "execute_result"
    }
   ],
   "source": [
    "data = {}\n",
    "tags = {}\n",
    "\n",
    "for name, path in zip(['dev', 'test', 'train'], small_path.glob('*.txt')):\n",
    "    data[name] = []\n",
    "    tags[name] = []\n",
    "    for sentences in path.read_text(encoding='utf-8').split('\\n\\n'):\n",
    "        data[name].append({'tokens':[], 'tags':[]})\n",
    "        for row in sentences.split('\\n'):\n",
    "            token, tag = row.split(' ')\n",
    "            data[name][-1]['tokens'].append(token)\n",
    "            data[name][-1]['tags'].append(tag)\n",
    "        tags[name] += data[name][-1]['tags']\n",
    "\n",
    "data['tag_to_id'] = {'O': 0}\n",
    "for tag in ['Task', 'Material', 'Metric', 'Method']:\n",
    "    data['tag_to_id'].update({f'B-{tag}':len(data['tag_to_id'])})\n",
    "    data['tag_to_id'].update({f'I-{tag}':len(data['tag_to_id'])})\n",
    "\n",
    "Path('training/corpus/tdmm.pk').write_bytes(pickle.dumps(data))"
   ]
  },
  {
   "cell_type": "code",
   "execution_count": 19,
   "metadata": {},
   "outputs": [
    {
     "data": {
      "text/plain": [
       "O             8807\n",
       "I-Method       554\n",
       "B-Method       406\n",
       "I-Task         163\n",
       "B-Task         132\n",
       "I-Metric        76\n",
       "B-Metric        63\n",
       "B-Material      39\n",
       "I-Material      31\n",
       "dtype: int64"
      ]
     },
     "execution_count": 19,
     "metadata": {},
     "output_type": "execute_result"
    }
   ],
   "source": [
    "import pandas as pd\n",
    "\n",
    "pd.Series(tags['dev']).value_counts()"
   ]
  },
  {
   "cell_type": "code",
   "execution_count": 20,
   "metadata": {},
   "outputs": [
    {
     "data": {
      "text/plain": [
       "O             9423\n",
       "I-Method       550\n",
       "B-Method       409\n",
       "I-Task         201\n",
       "B-Task         141\n",
       "I-Metric        55\n",
       "B-Metric        53\n",
       "B-Material      42\n",
       "I-Material      38\n",
       "dtype: int64"
      ]
     },
     "execution_count": 20,
     "metadata": {},
     "output_type": "execute_result"
    }
   ],
   "source": [
    "pd.Series(tags['test']).value_counts()"
   ]
  },
  {
   "cell_type": "code",
   "execution_count": 21,
   "metadata": {},
   "outputs": [
    {
     "data": {
      "text/plain": [
       "O             26097\n",
       "I-Method       1666\n",
       "B-Method       1257\n",
       "I-Task          586\n",
       "B-Task          416\n",
       "I-Metric        183\n",
       "B-Metric        175\n",
       "B-Material      124\n",
       "I-Material      102\n",
       "dtype: int64"
      ]
     },
     "execution_count": 21,
     "metadata": {},
     "output_type": "execute_result"
    }
   ],
   "source": [
    "pd.Series(tags['train']).value_counts()"
   ]
  }
 ],
 "metadata": {
  "kernelspec": {
   "display_name": "Python 3.10.4 ('paperjam-lab')",
   "language": "python",
   "name": "python3"
  },
  "language_info": {
   "codemirror_mode": {
    "name": "ipython",
    "version": 3
   },
   "file_extension": ".py",
   "mimetype": "text/x-python",
   "name": "python",
   "nbconvert_exporter": "python",
   "pygments_lexer": "ipython3",
   "version": "3.10.4"
  },
  "orig_nbformat": 4,
  "vscode": {
   "interpreter": {
    "hash": "a0972058b7da59a40a838c2403b05538f0b81c19f6ac82969c3f4144b7fd7711"
   }
  }
 },
 "nbformat": 4,
 "nbformat_minor": 2
}
