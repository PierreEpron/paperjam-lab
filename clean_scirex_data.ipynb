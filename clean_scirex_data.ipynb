{
 "cells": [
  {
   "cell_type": "code",
   "execution_count": 1,
   "metadata": {},
   "outputs": [],
   "source": [
    "from pathlib import Path\n",
    "import functools\n",
    "import random\n",
    "import json\n",
    "import os\n",
    "\n",
    "from spacy.tokens import DocBin\n",
    "import spacy"
   ]
  },
  {
   "cell_type": "code",
   "execution_count": 2,
   "metadata": {},
   "outputs": [],
   "source": [
    "training_path = Path('training/corpus')\n",
    "source_path = training_path / 'source'\n",
    "fixed_path = training_path / 'fixed'\n",
    "\n",
    "for path in source_path.glob('*.txt'):\n",
    "    txt = path.read_text(encoding='utf-8')\n",
    "    txt = '\\n'.join([t.strip() for t in txt.split('\\n')])\n",
    "    fpath = fixed_path / path.name\n",
    "    fpath.write_text(txt, encoding='utf-8')\n",
    "    os.system(f'python -m spacy convert {fpath} {training_path} --converter ner')"
   ]
  },
  {
   "cell_type": "code",
   "execution_count": 3,
   "metadata": {},
   "outputs": [],
   "source": [
    "nlp = spacy.load('en_core_web_lg')"
   ]
  },
  {
   "cell_type": "code",
   "execution_count": 4,
   "metadata": {},
   "outputs": [
    {
     "name": "stdout",
     "output_type": "stream",
     "text": [
      "training\\corpus\\Final_SCIREX_dev.spacy  :  17871\n",
      "training\\corpus\\Final_SCIREX_test.spacy  :  19429\n",
      "training\\corpus\\Final_SCIREX_train.spacy  :  83132\n",
      "training\\corpus\\tdm_dev.spacy  :  17871\n",
      "training\\corpus\\tdm_test.spacy  :  19429\n",
      "training\\corpus\\tdm_train.spacy  :  83132\n"
     ]
    }
   ],
   "source": [
    "for path in training_path.glob('*.spacy'):\n",
    "    doc_bin = DocBin().from_disk(path)\n",
    "    docs = list(doc_bin.get_docs(nlp.vocab))\n",
    "    print(path, ' : ', len(docs))"
   ]
  },
  {
   "cell_type": "code",
   "execution_count": 5,
   "metadata": {},
   "outputs": [],
   "source": [
    "to_keep = ['Material', 'Metric', 'Task']\n",
    "\n",
    "labels = []\n",
    "for path in training_path.glob('*.spacy'):\n",
    " \n",
    "    input_bin = DocBin().from_disk(path)\n",
    "    output_bin = DocBin(attrs=[\"ENT_IOB\", \"ENT_TYPE\"])\n",
    "\n",
    "    for doc in input_bin.get_docs(nlp.vocab):\n",
    "        ents = [ent for ent in doc.ents if ent.label_ in to_keep]\n",
    "        doc.ents = tuple(ents)\n",
    "        output_bin.add(doc)\n",
    "\n",
    "    output_path = training_path / f\"tdm_{path.name.split('_')[-1]}\"\n",
    "    output_bin.to_disk(path)"
   ]
  }
 ],
 "metadata": {
  "kernelspec": {
   "display_name": "Python 3.10.4 ('paperjam-lab')",
   "language": "python",
   "name": "python3"
  },
  "language_info": {
   "codemirror_mode": {
    "name": "ipython",
    "version": 3
   },
   "file_extension": ".py",
   "mimetype": "text/x-python",
   "name": "python",
   "nbconvert_exporter": "python",
   "pygments_lexer": "ipython3",
   "version": "3.10.4"
  },
  "orig_nbformat": 4,
  "vscode": {
   "interpreter": {
    "hash": "a0972058b7da59a40a838c2403b05538f0b81c19f6ac82969c3f4144b7fd7711"
   }
  }
 },
 "nbformat": 4,
 "nbformat_minor": 2
}
