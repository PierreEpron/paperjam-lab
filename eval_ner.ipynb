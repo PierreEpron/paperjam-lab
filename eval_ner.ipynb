{
 "cells": [
  {
   "cell_type": "code",
   "execution_count": 17,
   "metadata": {},
   "outputs": [],
   "source": [
    "from pathlib import Path\n",
    "import functools\n",
    "import random\n",
    "import json\n",
    "import os\n",
    "\n",
    "from spacy.tokens import DocBin\n",
    "from spacy.tokens import DocBin\n",
    "from spacy.scorer import Scorer\n",
    "import spacy\n",
    "\n",
    "from eval_ner import *"
   ]
  },
  {
   "cell_type": "code",
   "execution_count": 18,
   "metadata": {},
   "outputs": [],
   "source": [
    "nlp = load_model('training/base/output/model-best')\n",
    "scorer = Scorer(nlp)"
   ]
  },
  {
   "cell_type": "code",
   "execution_count": 19,
   "metadata": {},
   "outputs": [
    {
     "name": "stderr",
     "output_type": "stream",
     "text": [
      "Load examples : 100%|██████████| 19429/19429 [07:44<00:00, 41.80it/s]\n"
     ]
    }
   ],
   "source": [
    "test_examples = load_examples(DocBin().from_disk('training/corpus/tdm_test.spacy'), nlp)"
   ]
  },
  {
   "cell_type": "code",
   "execution_count": 20,
   "metadata": {},
   "outputs": [
    {
     "name": "stdout",
     "output_type": "stream",
     "text": [
      "0.0, 0.0 {0.0}\n",
      "{'Method': {'p': 0.0, 'r': 0.0, 'f': 0.0}, 'Task': {'p': 0.0, 'r': 0.0, 'f': 0.0}, 'Metric': {'p': 0.0, 'r': 0.0, 'f': 0.0}, 'Material': {'p': 0.0, 'r': 0.0, 'f': 0.0}}\n"
     ]
    }
   ],
   "source": [
    "scores = scorer.score(test_examples)\n",
    "print(f\"{scores['ents_p']}, {scores['ents_r']}\", {scores['ents_f']})\n",
    "print(f\"{scores['ents_per_type']}\")"
   ]
  },
  {
   "cell_type": "code",
   "execution_count": 21,
   "metadata": {},
   "outputs": [
    {
     "data": {
      "text/plain": [
       "['Method']"
      ]
     },
     "execution_count": 21,
     "metadata": {},
     "output_type": "execute_result"
    }
   ],
   "source": [
    "[ent.label_ for ent in nlp(\"document : Deep Label Distribution Learning With Label Ambiguity\").ents]"
   ]
  },
  {
   "cell_type": "code",
   "execution_count": null,
   "metadata": {},
   "outputs": [],
   "source": []
  }
 ],
 "metadata": {
  "kernelspec": {
   "display_name": "Python 3.10.4 ('paperjam-lab')",
   "language": "python",
   "name": "python3"
  },
  "language_info": {
   "codemirror_mode": {
    "name": "ipython",
    "version": 3
   },
   "file_extension": ".py",
   "mimetype": "text/x-python",
   "name": "python",
   "nbconvert_exporter": "python",
   "pygments_lexer": "ipython3",
   "version": "3.10.4"
  },
  "orig_nbformat": 4,
  "vscode": {
   "interpreter": {
    "hash": "a0972058b7da59a40a838c2403b05538f0b81c19f6ac82969c3f4144b7fd7711"
   }
  }
 },
 "nbformat": 4,
 "nbformat_minor": 2
}
